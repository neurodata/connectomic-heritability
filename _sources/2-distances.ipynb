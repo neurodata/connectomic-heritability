{
 "cells": [
  {
   "cell_type": "markdown",
   "id": "44c12da6-b6db-4546-839e-9e15f44f990e",
   "metadata": {},
   "source": [
    "# Computing distance/similarity matrices for hypothesis testin"
   ]
  },
  {
   "cell_type": "code",
   "execution_count": 1,
   "id": "ae07309e-76c4-4359-9374-c53753beea3b",
   "metadata": {
    "tags": []
   },
   "outputs": [],
   "source": [
    "import datetime\n",
    "import time\n",
    "from itertools import combinations\n",
    "from pathlib import Path\n",
    "\n",
    "from graspologic.embed import *\n",
    "from joblib import Parallel, delayed\n",
    "from pkg.data import load_dataset\n",
    "from pkg.inference import difference_norm\n",
    "from scipy.spatial.distance import squareform"
   ]
  },
  {
   "cell_type": "code",
   "execution_count": 2,
   "id": "4660f113-ba59-41c2-8de8-0d2e05223ebf",
   "metadata": {
    "tags": []
   },
   "outputs": [],
   "source": [
    "df = pd.read_csv(\"../restricted_data/690subjects.csv\")\n",
    "\n",
    "subjects = df.Subject.astype(int).values"
   ]
  },
  {
   "cell_type": "markdown",
   "id": "9280ebb2-f3ac-4efb-9898-d8e2d2d7dc11",
   "metadata": {},
   "source": [
    "## Computing Connectome Distances"
   ]
  },
  {
   "cell_type": "code",
   "execution_count": 3,
   "id": "9bfd75f4-6547-4b4d-9cc6-f702f08f1610",
   "metadata": {
    "tags": []
   },
   "outputs": [],
   "source": [
    "def compute_zg(subjects, graphs, workers=81):\n",
    "    n_verts = graphs[str(subjects[0])].shape[0]\n",
    "\n",
    "    n_dims = int(np.sqrt(n_verts) * 2)\n",
    "    zg = Parallel(n_jobs=workers)(\n",
    "        delayed(select_dimension)(g, n_dims) for g in graphs.values()\n",
    "    )\n",
    "    max_zg = np.max([d[0][-1] for d in zg])\n",
    "\n",
    "    return max_zg"
   ]
  },
  {
   "cell_type": "code",
   "execution_count": 4,
   "id": "14b1e529-3026-4d07-8199-78f456ecfd06",
   "metadata": {
    "tags": []
   },
   "outputs": [],
   "source": [
    "def compute_connectome_distances(subjects, graphs, n_components=None, workers=81):\n",
    "    \"\"\"\n",
    "    subjects : list\n",
    "    graphs : dict\n",
    "    \"\"\"\n",
    "    subs = [str(s) for s in subjects]\n",
    "\n",
    "    if n_components is not None:\n",
    "        n_verts = graphs[subs[0]].shape[0]\n",
    "        n_dims = n_verts // 2\n",
    "\n",
    "        if n_dims > 100:  # for computational efficiency\n",
    "            n_dims = 100\n",
    "\n",
    "        zg = Parallel(n_jobs=workers)(\n",
    "            delayed(select_dimension)(g, n_dims) for g in graphs.values()\n",
    "        )\n",
    "        max_zg = np.max([d[0][-1] for d in zg])\n",
    "        n_components = max_zg\n",
    "\n",
    "    def worker(pairs, n_components):\n",
    "        out = []\n",
    "        for u, v in pairs:\n",
    "            G = graphs[u]\n",
    "            H = graphs[v]\n",
    "            X = AdjacencySpectralEmbed(\n",
    "                n_components=n_components, check_lcc=False\n",
    "            ).fit_transform(G)\n",
    "            Y = AdjacencySpectralEmbed(\n",
    "                n_components=n_components, check_lcc=False\n",
    "            ).fit_transform(H)\n",
    "            res = [\n",
    "                difference_norm(X, Y, model) for model in [\"exact\", \"global\", \"vertex\"]\n",
    "            ]\n",
    "            out.append(res)\n",
    "        return np.array(out)\n",
    "\n",
    "    cartesian_prods = list(combinations(subs, 2))\n",
    "    splits = np.array_split(cartesian_prods, workers)\n",
    "\n",
    "    distances = Parallel(n_jobs=workers)(\n",
    "        delayed(worker)(split, n_components) for split in splits\n",
    "    )\n",
    "\n",
    "    distances = np.vstack(distances)\n",
    "\n",
    "    return distances"
   ]
  },
  {
   "cell_type": "code",
   "execution_count": 5,
   "id": "b35f4086-d95b-4a08-b54c-402833e3f0d7",
   "metadata": {
    "tags": []
   },
   "outputs": [],
   "source": [
    "parcellations = [\n",
    "    \"AAL\",\n",
    "    \"CPAC200\",\n",
    "    \"DKT\",\n",
    "    \"Desikan\",\n",
    "    \"Glasser\",\n",
    "    \"Yeo-17-liberal\",\n",
    "    \"Yeo-17\",\n",
    "    \"Yeo-7-liberal\",\n",
    "    \"Yeo-7\",\n",
    "    \"Schaefer200\",\n",
    "    \"Schaefer300\",\n",
    "    \"Schaefer400\",\n",
    "    \"Schaefer1000\",\n",
    "]"
   ]
  },
  {
   "cell_type": "code",
   "execution_count": 6,
   "id": "c0da0d2c-08c5-4db3-8dc4-eea24e94096c",
   "metadata": {
    "tags": []
   },
   "outputs": [],
   "source": [
    "zg = {\"AAL\": 10}"
   ]
  },
  {
   "cell_type": "code",
   "execution_count": 10,
   "id": "fe389c1a-2227-4e0d-9fb4-4991290abcbe",
   "metadata": {
    "tags": []
   },
   "outputs": [
    {
     "name": "stdout",
     "output_type": "stream",
     "text": [
      "Computing AAL\n",
      "Computing CPAC200\n",
      "Computing DKT\n",
      "Computing Desikan\n",
      "Computing Glasser\n",
      "Computing Yeo-17-liberal\n",
      "Computing Yeo-17\n",
      "Computing Yeo-7-liberal\n",
      "Computing Yeo-7\n",
      "Computing Schaefer200\n",
      "Computing Schaefer300\n",
      "Computing Schaefer400\n",
      "Computing Schaefer1000\n"
     ]
    }
   ],
   "source": [
    "t0 = time.time()\n",
    "\n",
    "for parcellation in parcellations:\n",
    "    print(f\"Computing {parcellation}\")\n",
    "    graphs = load_dataset(\n",
    "        parcellation=parcellation,\n",
    "    )\n",
    "    graphs = {key: val for key, val in graphs.items() if int(key) in subjects}\n",
    "\n",
    "    if parcellation not in zg.keys():\n",
    "        zg[parcellation] = compute_zg(subjects, graphs)\n",
    "\n",
    "    connectome_distances = compute_connectome_distances(\n",
    "        subjects, graphs, n_components=zg[parcellation]\n",
    "    )\n",
    "\n",
    "    np.savez_compressed(\n",
    "        f\"../results/{parcellation}/connectome_distances\",\n",
    "        exact=connectome_distances[:, 0],\n",
    "        glob=connectome_distances[:, 1],\n",
    "        vertex=connectome_distances[:, 2],\n",
    "        subjects=subjects,\n",
    "    )"
   ]
  },
  {
   "cell_type": "code",
   "execution_count": 11,
   "id": "105211c2-1b5a-4b5b-877e-97e33e0ee032",
   "metadata": {
    "tags": []
   },
   "outputs": [
    {
     "name": "stdout",
     "output_type": "stream",
     "text": [
      "Script took 1:23:57.927655\n"
     ]
    }
   ],
   "source": [
    "elapsed = time.time() - t0\n",
    "delta = datetime.timedelta(seconds=elapsed)\n",
    "print(f\"Script took {delta}\")"
   ]
  },
  {
   "cell_type": "code",
   "execution_count": 12,
   "id": "a113a58b-b811-4065-b339-06957e0017a0",
   "metadata": {
    "tags": []
   },
   "outputs": [
    {
     "data": {
      "text/plain": [
       "{'AAL': 10,\n",
       " 'CPAC200': 11,\n",
       " 'DKT': 8,\n",
       " 'Desikan': 4,\n",
       " 'Glasser': 9,\n",
       " 'Yeo-17-liberal': 6,\n",
       " 'Yeo-17': 6,\n",
       " 'Yeo-7-liberal': 4,\n",
       " 'Yeo-7': 4,\n",
       " 'Schaefer200': 14,\n",
       " 'Schaefer300': 16,\n",
       " 'Schaefer400': 17,\n",
       " 'Schaefer1000': 27}"
      ]
     },
     "execution_count": 12,
     "metadata": {},
     "output_type": "execute_result"
    }
   ],
   "source": [
    "zg"
   ]
  },
  {
   "cell_type": "markdown",
   "id": "2d8a34c5-6d1e-4ed1-996e-c6e96ac5179a",
   "metadata": {
    "tags": []
   },
   "source": [
    "## Compute genomic distance\n",
    "\n",
    "Only need to do this once since it is constant regardless of parcellation choice"
   ]
  },
  {
   "cell_type": "code",
   "execution_count": null,
   "id": "30dc26ac-2c6d-46a6-8392-d747081798aa",
   "metadata": {
    "tags": []
   },
   "outputs": [],
   "source": [
    "def compute_genome_distances(subjects, df, workers=81):\n",
    "    \"\"\"\n",
    "    subjects : list\n",
    "    df : pd.DataFrame\n",
    "\n",
    "    0 = MZ, 1 = NotTwin/DZ, 2 = non-twin sibling, 3 = step-sibling, 4 = unrelated.\n",
    "    \"\"\"\n",
    "\n",
    "    def worker(pairs, df):\n",
    "        rel_dict = dict(MZ=0, DZ=1, NotTwin=2, Step=3, Unrelated=4)\n",
    "\n",
    "        dists = []\n",
    "        for u, v in pairs:\n",
    "            subs = df[df.Subject.isin([u, v])]\n",
    "            fdx1, mdx1, fdx2, mdx2 = subs[[\"Father_ID\", \"Mother_ID\"]].values.ravel()\n",
    "            zyg1, zyg2 = subs[[\"Zygosity\"]].values.ravel()\n",
    "\n",
    "            # below checks if same family\n",
    "            if (fdx1 == fdx2) and (mdx1 == mdx2):\n",
    "                if zyg1 == zyg2:\n",
    "                    dist = rel_dict[zyg1]\n",
    "                elif zyg1 != zyg2:\n",
    "                    dist = rel_dict[\"NotTwin\"]\n",
    "            elif (fdx1 != fdx2) ^ (mdx1 != mdx2):  # share at least one parent\n",
    "                dist = rel_dict[\"Step\"]\n",
    "            elif (fdx1 != fdx2) and (mdx1 != mdx2):  # no sharing parents\n",
    "                dist = rel_dict[\"Unrelated\"]\n",
    "            else:  # sanity check\n",
    "                raise ValueError()\n",
    "            dists.append(dist)\n",
    "        return dists\n",
    "\n",
    "    subs = [int(s) for s in subjects]\n",
    "    cartesian_prods = list(combinations(subs, 2))\n",
    "    splits = np.array_split(cartesian_prods, workers)\n",
    "    distances = Parallel(n_jobs=workers)(delayed(worker)(split, df) for split in splits)\n",
    "\n",
    "    return np.hstack(distances)"
   ]
  },
  {
   "cell_type": "code",
   "execution_count": 44,
   "id": "c9801e2d-5474-42ba-990a-5668ec73ffef",
   "metadata": {
    "tags": []
   },
   "outputs": [],
   "source": [
    "genome = compute_genome_distances(subjects, df)\n",
    "\n",
    "np.savez_compressed(\"../results/genome_distance\", genome=genome, subjects=subjects)"
   ]
  },
  {
   "cell_type": "markdown",
   "id": "fddfe5b2-b804-4abe-9996-ef443bf2906d",
   "metadata": {},
   "source": [
    "## Compute neuroanatomy distance matrix and full covariate similarity matrix"
   ]
  },
  {
   "cell_type": "code",
   "execution_count": 95,
   "id": "ff161ce2-8c2c-4eb5-89ef-de5a0ddcbeb9",
   "metadata": {
    "tags": []
   },
   "outputs": [],
   "source": [
    "parcs = [\n",
    "    \"AAL_space-MNI152NLin6_res-1x1x1\",\n",
    "    \"CPAC200_space-MNI152NLin6_res-1x1x1\",\n",
    "    \"DKT_space-MNI152NLin6_res-1x1x1\",\n",
    "    \"Desikan_space-MNI152NLin6_res-1x1x1\",\n",
    "    \"Glasser_space-MNI152NLin6_res-1x1x1\",\n",
    "    \"Schaefer1000_space-MNI152NLin6_res-1x1x1\",\n",
    "    \"Schaefer200_space-MNI152NLin6_res-1x1x1\",\n",
    "    \"Schaefer300_space-MNI152NLin6_res-1x1x1\",\n",
    "    \"Schaefer400_space-MNI152NLin6_res-1x1x1\",\n",
    "    \"Yeo-17-liberal_space-MNI152NLin6_res-1x1x1\",\n",
    "    \"Yeo-17_space-MNI152NLin6_res-1x1x1\",\n",
    "    \"Yeo-7-liberal_space-MNI152NLin6_res-1x1x1\",\n",
    "    \"Yeo-7_space-MNI152NLin6_res-1x1x1\",\n",
    "]"
   ]
  },
  {
   "cell_type": "code",
   "execution_count": 103,
   "id": "a499a22b-13cd-47dd-856c-e9c95ffd6cc4",
   "metadata": {
    "tags": []
   },
   "outputs": [],
   "source": [
    "ages = np.array([df[df.Subject == sub].Age_in_Yrs.values for sub in subjects]).reshape(\n",
    "    -1, 1\n",
    ")\n",
    "ages = ages / ages.max()\n",
    "\n",
    "\n",
    "for parc in parcs:\n",
    "    pname = parc.split(\"_\")[0]\n",
    "    print(f\"Computing {pname}\")\n",
    "\n",
    "    files = [cov_path / f\"{sub}_{parc}.csv.csv\" for sub in subjects]\n",
    "    covariates = [pd.read_csv(f) for f in files]\n",
    "\n",
    "    res = []\n",
    "    for covariate in covariates:\n",
    "        covariate = covariate[[\"Volume\", \"FA\", \"AD\", \"RD\"]]\n",
    "        covariate = np.nan_to_num(covariate)\n",
    "        volume = covariate[:, 0]\n",
    "        rest = covariate[:, 1:]\n",
    "\n",
    "        normed = rest * volume.reshape(-1, 1)\n",
    "\n",
    "        to_append = [volume.mean(), *rest.mean(axis=0)]\n",
    "        res.append(to_append)\n",
    "\n",
    "    res = np.array(res)\n",
    "    res = res / res.max(axis=0)\n",
    "\n",
    "    cols = [\"Volume\", \"FA\", \"AD\", \"RD\"]\n",
    "    dists = pdist(res)\n",
    "\n",
    "    np.savez_compressed(\n",
    "        f\"../results/{pname}/covariate_distance\",\n",
    "        neuroanatomy=dists,\n",
    "        subjects=subjects,\n",
    "    )\n",
    "\n",
    "    res = np.hstack([res, ages])\n",
    "    cols = [\"Volume\", \"FA\", \"AD\", \"RD\", \"Age\"]\n",
    "    cd = ConditionalDcorr()\n",
    "    simmat = cd._compute_kde(res)\n",
    "\n",
    "    np.savez_compressed(\n",
    "        f\"../results/{pname}/covariate_kde\",\n",
    "        covariates=simmat,\n",
    "        subjects=subjects,\n",
    "    )"
   ]
  },
  {
   "cell_type": "code",
   "execution_count": null,
   "id": "179abd8f-d965-4f56-8721-19f0a76425bc",
   "metadata": {},
   "outputs": [],
   "source": []
  }
 ],
 "metadata": {
  "kernelspec": {
   "display_name": "Python 3 (ipykernel)",
   "language": "python",
   "name": "python3"
  },
  "language_info": {
   "codemirror_mode": {
    "name": "ipython",
    "version": 3
   },
   "file_extension": ".py",
   "mimetype": "text/x-python",
   "name": "python",
   "nbconvert_exporter": "python",
   "pygments_lexer": "ipython3",
   "version": "3.9.16"
  }
 },
 "nbformat": 4,
 "nbformat_minor": 5
}
