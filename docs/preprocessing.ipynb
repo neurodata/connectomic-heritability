{
 "cells": [
  {
   "cell_type": "code",
   "execution_count": 164,
   "id": "4fd796fe-a035-4e45-968b-936464b749cf",
   "metadata": {
    "tags": []
   },
   "outputs": [],
   "source": [
    "import pandas as pd\n",
    "from scipy.spatial.distance import pdist, squareform"
   ]
  },
  {
   "cell_type": "markdown",
   "id": "689ef0cc-c287-4a58-b5cd-1208d692b8e0",
   "metadata": {},
   "source": [
    "## Data cleaning"
   ]
  },
  {
   "cell_type": "code",
   "execution_count": 20,
   "id": "a5637b01-cdef-4db8-b206-89081fdc88d6",
   "metadata": {
    "tags": []
   },
   "outputs": [],
   "source": [
    "restricted = pd.read_csv(\"../restricted_data/restricted_subject_data.csv\")\n",
    "unrestricted = pd.read_csv(\"../restricted_data/unrestricted_subject_data.csv\")"
   ]
  },
  {
   "cell_type": "code",
   "execution_count": 34,
   "id": "e9305399-25c0-487f-b0e1-6f786a9f4ca2",
   "metadata": {
    "tags": []
   },
   "outputs": [],
   "source": [
    "restricted_columns = [\n",
    "    \"Subject\",\n",
    "    \"Age_in_Yrs\",\n",
    "    \"HasGT\",\n",
    "    \"ZygositySR\",\n",
    "    \"ZygosityGT\",\n",
    "    \"Family_ID\",\n",
    "    \"Mother_ID\",\n",
    "    \"Father_ID\",\n",
    "    \"Race\",\n",
    "    \"Ethnicity\",\n",
    "]\n",
    "\n",
    "unrestricted_columns = [\"Subject\", \"Gender\"]\n",
    "\n",
    "restricted = restricted.loc[:, restricted_columns]\n",
    "unrestricted = unrestricted.loc[:, unrestricted_columns]\n",
    "\n",
    "data = pd.merge(restricted, unrestricted, on=\"Subject\")"
   ]
  },
  {
   "cell_type": "code",
   "execution_count": 55,
   "id": "fa110f52-682e-4e70-b1f4-3c38f1ddfd6b",
   "metadata": {
    "tags": []
   },
   "outputs": [],
   "source": [
    "# Convert labels of Zygosity\n",
    "to_replace = dict(NotTwin=\"NotTwin\", NotMZ=\"DZ\", MZ=\"MZ\")\n",
    "\n",
    "data.ZygositySR.replace(to_replace, inplace=True)"
   ]
  },
  {
   "cell_type": "code",
   "execution_count": 94,
   "id": "8a788143-29fe-4791-bbad-69eb7581dc6c",
   "metadata": {
    "tags": []
   },
   "outputs": [],
   "source": [
    "# check for difference in self report and genotyping\n",
    "\n",
    "for rdx, row in data.iterrows():\n",
    "    hasGT = row.HasGT\n",
    "    SR = row.ZygositySR\n",
    "    GT = row.ZygosityGT\n",
    "\n",
    "    if hasGT:\n",
    "        if SR == \"MZ\" and GT == \"MZ\":\n",
    "            data.loc[rdx, \"Zygosity\"] = \"MZ\"\n",
    "        if SR == \"DZ\" and GT == \"MZ\":\n",
    "            data.loc[rdx, \"Zygosity\"] = \"MZ\"\n",
    "        elif SR == \"DZ\" and GT == \"DZ\":\n",
    "            data.loc[rdx, \"Zygosity\"] = \"DZ\"\n",
    "        elif GT == \" \":\n",
    "            data.loc[rdx, \"Zygosity\"] = SR\n",
    "    else:\n",
    "        data.loc[rdx, \"Zygosity\"] = SR"
   ]
  },
  {
   "cell_type": "code",
   "execution_count": 97,
   "id": "69fcc337-066e-4637-a9e2-9705f1e2e16a",
   "metadata": {
    "tags": []
   },
   "outputs": [],
   "source": [
    "data.to_csv(\"../restricted_data/processed.csv\", index=False)"
   ]
  },
  {
   "cell_type": "markdown",
   "id": "5a5729e1-b901-4394-a299-3a4a5a5d1d82",
   "metadata": {},
   "source": [
    "## Removing subjects\n",
    "1. without scans\n",
    "2. without connectomes\n",
    "3. singletons\n",
    "4. subsample to two subjects"
   ]
  },
  {
   "cell_type": "code",
   "execution_count": 127,
   "id": "94e5c13c-ef6c-4b85-a83a-d30c8fb6b6ca",
   "metadata": {
    "tags": []
   },
   "outputs": [],
   "source": [
    "data = pd.read_csv(\"../restricted_data/processed.csv\")\n",
    "\n",
    "subjects_without_scans = np.loadtxt(\"../data/subjects_without_dwi_t1.txt\", dtype=int)\n",
    "data = data[~data.Subject.isin(subjects_without_scans)]\n",
    "\n",
    "subjects_with_connectomes = np.loadtxt(\n",
    "    \"../data/subjects_with_all_connectomes.txt\", dtype=int\n",
    ")\n",
    "data = data[data.Subject.isin(subjects_with_connectomes)]\n",
    "data.sort_values(\"Subject\", inplace=True)\n",
    "\n",
    "# remove singletons\n",
    "uniques, counts = np.unique(data.Family_ID, return_counts=True)\n",
    "singletons = []\n",
    "\n",
    "for unique, count in zip(uniques, counts):\n",
    "    if count == 1:\n",
    "        sub = data[data.Family_ID == unique].Subject.iloc[0]\n",
    "        singletons.append(sub)\n",
    "\n",
    "singleton_idx = data.Subject.isin(singletons).values\n",
    "\n",
    "data = data[~singleton_idx]\n",
    "\n",
    "\n",
    "male_idx = data.Gender == \"M\"\n",
    "female_idx = data.Gender == \"F\"\n",
    "\n",
    "# data.to_csv(\"../restricted_data/944subjects.csv\", index=False)"
   ]
  },
  {
   "cell_type": "code",
   "execution_count": 257,
   "id": "3f1ecfb7-dd76-49f6-adb2-8c0b5140f017",
   "metadata": {
    "tags": []
   },
   "outputs": [],
   "source": [
    "# subsample the data to have 2 subs per fam\n",
    "fams, counts = np.unique(data.Family_ID, return_counts=True)\n",
    "\n",
    "subsampled_df = []\n",
    "\n",
    "others = []\n",
    "\n",
    "np.random.seed(1)\n",
    "for fam, count in zip(fams, counts):\n",
    "    if count > 2:\n",
    "        fam_df = data.loc[data.Family_ID == fam]\n",
    "        zygs, zyg_counts = np.unique(fam_df.Zygosity, return_counts=True)\n",
    "\n",
    "        # check if there twins\n",
    "        if \"MZ\" in zygs:\n",
    "            twin_counts = zyg_counts[zygs == \"MZ\"]\n",
    "            if twin_counts == 2:\n",
    "                subsampled_df.append(fam_df[fam_df.Zygosity == \"MZ\"])\n",
    "            elif twin_counts > 2:\n",
    "                raise ValueError(f\"More than 2 MZ twin for fam: {fam}\")\n",
    "            elif twin_counts == 1:\n",
    "                if len(fam.split(\"_\")) == 3:\n",
    "                    mdx = fam_df.Mother_ID.values\n",
    "                    fdx = fam_df.Father_ID.values\n",
    "\n",
    "                    if len(set(mdx)) > 1:  # two moms\n",
    "                        m, c = np.unique(mdx, return_counts=True)\n",
    "                        mdx = m[c == 2]\n",
    "                        if len(set(mdx)) > 1:\n",
    "                            raise ValueError()\n",
    "                        fam_df_wo_halfsibs = fam_df[fam_df.Mother_ID == mdx[0]]\n",
    "                    elif len(set(fdx)) > 1:\n",
    "                        f, c = np.unique(fdx, return_counts=True)\n",
    "                        fdx = f[c == 2]\n",
    "                        if len(set(fdx)) > 1:\n",
    "                            raise ValueError()\n",
    "                        fam_df_wo_halfsibs = fam_df[fam_df.Father_ID == fdx[0]]\n",
    "                    else:\n",
    "                        raise ValueError(f\"{fam}\")\n",
    "                    if fam_df_wo_halfsibs.shape[0] > 2:\n",
    "                        raise ValueError()\n",
    "                    subsampled_df.append(fam_df_wo_halfsibs)\n",
    "                elif len(fam.split(\"_\")) == 2:\n",
    "                    genders, c = np.unique(fam_df.Gender, return_counts=True)\n",
    "\n",
    "                    if (c > 1).sum() == 1:  # only one gender pairing possible\n",
    "                        gender = genders[c > 1][0]\n",
    "                        fam_df_same_gender = fam_df[fam_df.Gender == gender]\n",
    "                        nrows = fam_df_same_gender.shape[0]\n",
    "\n",
    "                        if nrows == 2:\n",
    "                            subsampled_df.append(fam_df_same_gender)\n",
    "                        elif nrows > 2:\n",
    "                            random_subjects = np.random.choice(\n",
    "                                fam_df_same_gender.Subject, 2, replace=False\n",
    "                            )\n",
    "                            subsampled_df.append(\n",
    "                                fam_df_same_gender[\n",
    "                                    fam_df_same_gender.Subject.isin(random_subjects)\n",
    "                                ]\n",
    "                            )\n",
    "                        else:\n",
    "                            raise ValueError()\n",
    "                    elif (c > 1).sum() == 2:\n",
    "                        random_gender = np.random.choice([\"M\", \"F\"], 1)[0]\n",
    "                        fam_df_same_gender = fam_df[fam_df.Gender == random_gender]\n",
    "                        nrows = fam_df_same_gender.shape[0]\n",
    "\n",
    "                        if nrows == 2:\n",
    "                            subsampled_df.append(fam_df_same_gender)\n",
    "                        elif nrows > 2:\n",
    "                            random_subjects = np.random.choice(\n",
    "                                fam_df_same_gender.Subject, 2, replace=False\n",
    "                            )\n",
    "                            subsampled_df.append(\n",
    "                                fam_df_same_gender[\n",
    "                                    fam_df_same_gender.Subject.isin(random_subjects)\n",
    "                                ]\n",
    "                            )\n",
    "                        else:\n",
    "                            raise ValueError()\n",
    "        elif \"DZ\" in zygs:\n",
    "            twin_counts = zyg_counts[zygs == \"DZ\"]\n",
    "            if twin_counts == 2:\n",
    "                subsampled_df.append(fam_df[fam_df.Zygosity == \"DZ\"])\n",
    "            elif twin_counts > 2:\n",
    "                raise ValueError(f\"More than 2 DZ twin for fam: {fam}\")\n",
    "            elif twin_counts == 1:\n",
    "                if len(fam.split(\"_\")) == 3:\n",
    "                    mdx = fam_df.Mother_ID.values\n",
    "                    fdx = fam_df.Father_ID.values\n",
    "\n",
    "                    if len(set(mdx)) > 1:  # two moms\n",
    "                        m, c = np.unique(mdx, return_counts=True)\n",
    "                        mdx = m[c == 2]\n",
    "                        if len(set(mdx)) > 1:\n",
    "                            raise ValueError()\n",
    "                        fam_df_wo_halfsibs = fam_df[fam_df.Mother_ID == mdx[0]]\n",
    "                    elif len(set(fdx)) > 1:\n",
    "                        f, c = np.unique(fdx, return_counts=True)\n",
    "                        fdx = f[c == 2]\n",
    "                        if len(set(fdx)) > 1:\n",
    "                            raise ValueError()\n",
    "                        fam_df_wo_halfsibs = fam_df[fam_df.Father_ID == fdx[0]]\n",
    "                    else:\n",
    "                        raise ValueError(f\"{fam}\")\n",
    "                    if fam_df_wo_halfsibs.shape[0] > 2:\n",
    "                        raise ValueError()\n",
    "                    subsampled_df.append(fam_df_wo_halfsibs)\n",
    "                elif len(fam.split(\"_\")) == 2:\n",
    "                    genders, c = np.unique(fam_df.Gender, return_counts=True)\n",
    "\n",
    "                    if (c > 1).sum() == 1:  # only one gender pairing possible\n",
    "                        gender = genders[c > 1][0]\n",
    "                        fam_df_same_gender = fam_df[fam_df.Gender == gender]\n",
    "                        nrows = fam_df_same_gender.shape[0]\n",
    "\n",
    "                        if nrows == 2:\n",
    "                            subsampled_df.append(fam_df_same_gender)\n",
    "                        elif nrows > 2:\n",
    "                            random_subjects = np.random.choice(\n",
    "                                fam_df_same_gender.Subject, 2, replace=False\n",
    "                            )\n",
    "                            subsampled_df.append(\n",
    "                                fam_df_same_gender[\n",
    "                                    fam_df_same_gender.Subject.isin(random_subjects)\n",
    "                                ]\n",
    "                            )\n",
    "                        else:\n",
    "                            raise ValueError()\n",
    "                    elif (c > 1).sum() == 2:\n",
    "                        random_gender = np.random.choice([\"M\", \"F\"], 1)[0]\n",
    "                        fam_df_same_gender = fam_df[fam_df.Gender == random_gender]\n",
    "                        nrows = fam_df_same_gender.shape[0]\n",
    "\n",
    "                        if nrows == 2:\n",
    "                            subsampled_df.append(fam_df_same_gender)\n",
    "                        elif nrows > 2:\n",
    "                            random_subjects = np.random.choice(\n",
    "                                fam_df_same_gender.Subject, 2, replace=False\n",
    "                            )\n",
    "                            subsampled_df.append(\n",
    "                                fam_df_same_gender[\n",
    "                                    fam_df_same_gender.Subject.isin(random_subjects)\n",
    "                                ]\n",
    "                            )\n",
    "                        else:\n",
    "                            raise ValueError()\n",
    "        elif len(fam.split(\"_\")) == 2:  # everything else\n",
    "            # subsample in the following way\n",
    "            # 1. same sex pair\n",
    "            # 2. if more than 1 same sex pair, then choose one with smallest age difference\n",
    "            # 3. if both female and male pairs exist, then choose one with smallest age difference\n",
    "            genders, c = np.unique(fam_df.Gender, return_counts=True)\n",
    "\n",
    "            if (c > 1).sum() == 1:  # only one gender pairing possible\n",
    "                gender = genders[c > 1][0]\n",
    "                fam_df_same_gender = fam_df[fam_df.Gender == gender]\n",
    "                nrows = fam_df_same_gender.shape[0]\n",
    "\n",
    "                if nrows == 2:\n",
    "                    subsampled_df.append(fam_df_same_gender)\n",
    "                elif nrows > 2:\n",
    "                    random_subjects = np.random.choice(\n",
    "                        fam_df_same_gender.Subject, 2, replace=False\n",
    "                    )\n",
    "                    subsampled_df.append(\n",
    "                        fam_df_same_gender[\n",
    "                            fam_df_same_gender.Subject.isin(random_subjects)\n",
    "                        ]\n",
    "                    )\n",
    "                else:\n",
    "                    raise ValueError()\n",
    "            elif (c > 1).sum() == 2:\n",
    "                random_gender = np.random.choice([\"M\", \"F\"], 1)[0]\n",
    "                fam_df_same_gender = fam_df[fam_df.Gender == random_gender]\n",
    "                nrows = fam_df_same_gender.shape[0]\n",
    "\n",
    "                if nrows == 2:\n",
    "                    subsampled_df.append(fam_df_same_gender)\n",
    "                elif nrows > 2:\n",
    "                    random_subjects = np.random.choice(\n",
    "                        fam_df_same_gender.Subject, 2, replace=False\n",
    "                    )\n",
    "                    subsampled_df.append(\n",
    "                        fam_df_same_gender[\n",
    "                            fam_df_same_gender.Subject.isin(random_subjects)\n",
    "                        ]\n",
    "                    )\n",
    "                else:\n",
    "                    raise ValueError()\n",
    "\n",
    "        elif len(fam.split(\"_\")) == 3:  # fams with half sibs\n",
    "            mdx = fam_df.Mother_ID.values\n",
    "            fdx = fam_df.Father_ID.values\n",
    "\n",
    "            if len(set(mdx)) > 1:  # two moms\n",
    "                m, c = np.unique(mdx, return_counts=True)\n",
    "                mdx = m[c == 2]\n",
    "                if len(set(mdx)) > 1:\n",
    "                    raise ValueError()\n",
    "                fam_df_wo_halfsibs = fam_df[fam_df.Mother_ID == mdx[0]]\n",
    "            elif len(set(fdx)) > 1:\n",
    "                f, c = np.unique(fdx, return_counts=True)\n",
    "                fdx = f[c == 2]\n",
    "                if len(set(fdx)) > 1:\n",
    "                    raise ValueError()\n",
    "                fam_df_wo_halfsibs = fam_df[fam_df.Father_ID == fdx[0]]\n",
    "            else:\n",
    "                raise ValueError()\n",
    "\n",
    "            if fam_df_wo_halfsibs.shape[0] > 2:\n",
    "                raise ValueError()\n",
    "            subsampled_df.append(fam_df_wo_halfsibs)\n",
    "        else:\n",
    "            raise ValueError(f\"This family was not considered: {fam}\")"
   ]
  },
  {
   "cell_type": "code",
   "execution_count": 259,
   "id": "c8312650-9568-4308-b1c4-d7b03c8841af",
   "metadata": {
    "tags": []
   },
   "outputs": [],
   "source": [
    "subsampled_df = pd.concat(subsampled_df, axis=0)"
   ]
  },
  {
   "cell_type": "code",
   "execution_count": 269,
   "id": "b2b52825-3099-4999-b90a-346c5b31999a",
   "metadata": {
    "tags": []
   },
   "outputs": [],
   "source": [
    "twos = data[data.Family_ID.isin(fams[counts == 2])]"
   ]
  },
  {
   "cell_type": "code",
   "execution_count": 270,
   "id": "3f6fed6b-a3e6-420e-bf8d-2962d612ef32",
   "metadata": {
    "tags": []
   },
   "outputs": [],
   "source": [
    "final = pd.concat([subsampled_df, twos], axis=0)"
   ]
  },
  {
   "cell_type": "code",
   "execution_count": 272,
   "id": "91c93d2c-467f-4720-9998-8824a0c7045d",
   "metadata": {
    "tags": []
   },
   "outputs": [],
   "source": [
    "final.to_csv(\"../restricted_data/700subjects.csv\")"
   ]
  },
  {
   "cell_type": "code",
   "execution_count": 273,
   "id": "5d02b824-a0ec-4452-890a-dbc09694ee23",
   "metadata": {},
   "outputs": [
    {
     "data": {
      "text/plain": [
       "(700, 12)"
      ]
     },
     "execution_count": 273,
     "metadata": {},
     "output_type": "execute_result"
    }
   ],
   "source": [
    "final.shape"
   ]
  },
  {
   "cell_type": "code",
   "execution_count": 288,
   "id": "e67f394f-af3f-40c7-becd-465dd1fb3b99",
   "metadata": {
    "tags": []
   },
   "outputs": [],
   "source": [
    "to_remove = np.array(\n",
    "    [256540, 549757, 179245, 849264, 108525, 146331, 204521, 214221, 284646, 979984]\n",
    ")"
   ]
  },
  {
   "cell_type": "code",
   "execution_count": 292,
   "id": "f105ea89-267a-4ac6-a54c-a79cae444c9a",
   "metadata": {
    "tags": []
   },
   "outputs": [],
   "source": [
    "final = final[~final.Subject.isin(to_remove)]"
   ]
  },
  {
   "cell_type": "code",
   "execution_count": 294,
   "id": "7fdec4c4-51a8-4594-bfb2-001a85381997",
   "metadata": {
    "tags": []
   },
   "outputs": [],
   "source": [
    "final.to_csv(\"../restricted_data/690subjects.csv\")"
   ]
  },
  {
   "cell_type": "markdown",
   "id": "d92a8212-4f98-4fb3-9b3e-6ce9dd1cd218",
   "metadata": {},
   "source": [
    "## Compute dataframe for same sex MZ and DZ"
   ]
  },
  {
   "cell_type": "code",
   "execution_count": 274,
   "id": "501af031-fe9c-4ebb-9079-d0f20177d3da",
   "metadata": {
    "tags": []
   },
   "outputs": [],
   "source": [
    "twins_df = final[final.Zygosity.isin([\"MZ\", \"DZ\"])]"
   ]
  },
  {
   "cell_type": "code",
   "execution_count": 277,
   "id": "3e3751f3-43e4-4194-9911-2c316ed6bda5",
   "metadata": {
    "tags": []
   },
   "outputs": [],
   "source": [
    "fams, counts = np.unique(twins_df.Family_ID, return_counts=True)"
   ]
  },
  {
   "cell_type": "code",
   "execution_count": 281,
   "id": "99ecf139-3f2e-486a-8278-1125af714987",
   "metadata": {
    "tags": []
   },
   "outputs": [],
   "source": [
    "out = []\n",
    "\n",
    "for fam, count in zip(fams, counts):\n",
    "    if count == 1:\n",
    "        continue\n",
    "    elif count == 2:\n",
    "        tmp = twins_df[twins_df.Family_ID == fam]\n",
    "        zyg = np.unique(tmp.Zygosity)\n",
    "        if len(zyg) > 1:\n",
    "            raise ValueError(f\"\")\n",
    "\n",
    "        if zyg[0] == \"MZ\":\n",
    "            out.append(tmp)\n",
    "        elif zyg[0] == \"DZ\":\n",
    "            gs = np.unique(tmp.Gender)\n",
    "\n",
    "            if len(gs) == 1:\n",
    "                out.append(tmp)\n",
    "            elif len(gs) > 2:\n",
    "                raise ValueError()\n",
    "        else:\n",
    "            raise ValueError()\n",
    "\n",
    "    else:\n",
    "        raise ValueError()"
   ]
  },
  {
   "cell_type": "code",
   "execution_count": 283,
   "id": "3c84fe73-1214-4d4d-8781-98f66b40a562",
   "metadata": {
    "tags": []
   },
   "outputs": [],
   "source": [
    "same_sex_twins = pd.concat(out, axis=0)"
   ]
  },
  {
   "cell_type": "code",
   "execution_count": 299,
   "id": "eeaec5e5-ea87-4f21-8622-2a9858c48993",
   "metadata": {
    "tags": []
   },
   "outputs": [],
   "source": [
    "same_sex_twins[~same_sex_twins.Subject.isin(to_remove)].to_csv(\n",
    "    \"../restricted_data/same_sex_twins.csv\", index=False\n",
    ")"
   ]
  },
  {
   "cell_type": "code",
   "execution_count": 287,
   "id": "aaf8dca8-8c8c-4194-8af0-90b041b29304",
   "metadata": {
    "tags": []
   },
   "outputs": [],
   "source": [
    "same_sex_twins.to_csv(\"../restricted_data/same_sex_twins.csv\")"
   ]
  },
  {
   "cell_type": "code",
   "execution_count": null,
   "id": "6dc8b9c7-eff0-4fc5-a6bb-f2390c0b6289",
   "metadata": {},
   "outputs": [],
   "source": []
  }
 ],
 "metadata": {
  "kernelspec": {
   "display_name": "Python 3 (ipykernel)",
   "language": "python",
   "name": "python3"
  },
  "language_info": {
   "codemirror_mode": {
    "name": "ipython",
    "version": 3
   },
   "file_extension": ".py",
   "mimetype": "text/x-python",
   "name": "python",
   "nbconvert_exporter": "python",
   "pygments_lexer": "ipython3",
   "version": "3.9.16"
  }
 },
 "nbformat": 4,
 "nbformat_minor": 5
}
