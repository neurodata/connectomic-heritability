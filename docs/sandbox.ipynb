{
 "cells": [
  {
   "cell_type": "code",
   "execution_count": 135,
   "id": "4144c6b0-4ce4-4d81-b643-033164e29a2c",
   "metadata": {
    "tags": []
   },
   "outputs": [],
   "source": [
    "from graspologic.align import OrthogonalProcrustes\n",
    "from graspologic.embed import AdjacencySpectralEmbed\n",
    "from graspologic.plot import pairplot\n",
    "from graspologic.simulations import sample_edges\n",
    "from pkg.inference import difference\n",
    "from pkg.plot import heatmap\n",
    "\n",
    "from hyppo.independence import Dcorr"
   ]
  },
  {
   "cell_type": "code",
   "execution_count": 74,
   "id": "4f7b23fa-192e-459c-a846-ec4dbf2a6571",
   "metadata": {},
   "outputs": [],
   "source": [
    "n = 25\n",
    "\n",
    "B1 = np.array([[0.5, 0.2], [0.2, 0.5]])\n",
    "P1 = np.repeat(np.repeat(B1, n, 0), n, 1)\n",
    "B2 = np.array([[0.72, 0.192], [0.192, 0.32]])\n",
    "P2 = np.repeat(np.repeat(B1, n, axis=0), n, axis=1)\n",
    "B3 = np.array([[0.7, 0.2], [0.2, 0.7]])\n",
    "P3 = np.repeat(np.repeat(B3, n, axis=0), n, axis=1)"
   ]
  },
  {
   "cell_type": "code",
   "execution_count": null,
   "id": "976f9edf-9758-4988-adee-ac898164c896",
   "metadata": {},
   "outputs": [],
   "source": []
  },
  {
   "cell_type": "code",
   "execution_count": 80,
   "id": "e0b9498e-e6f2-49a9-8c44-312d5c500b8a",
   "metadata": {
    "tags": []
   },
   "outputs": [],
   "source": [
    "def compute_diff_mats(X, Y, d=2):\n",
    "    X_hat = AdjacencySpectralEmbed(n_components=d, check_lcc=False).fit_transform(X)\n",
    "    Y_hat = AdjacencySpectralEmbed(n_components=d, check_lcc=False).fit_transform(Y)\n",
    "\n",
    "    exact = difference(X_hat, Y_hat, \"exact\")\n",
    "    exact_norm = np.linalg.norm(exact)\n",
    "    exact = exact @ exact.T\n",
    "\n",
    "    global_ = difference(X_hat, Y_hat, \"global\")\n",
    "    global_norm = np.linalg.norm(global_)\n",
    "    global_ = global_ @ global_.T\n",
    "\n",
    "    vertex = difference(X_hat, Y_hat, \"vertex\")\n",
    "    vertex_norm = np.linalg.norm(vertex)\n",
    "    vertex = vertex @ vertex.T\n",
    "\n",
    "    idx = np.diag_indices_from(exact)\n",
    "    exact[idx] = 0\n",
    "    global_[idx] = 0\n",
    "    vertex[idx] = 0\n",
    "\n",
    "    return exact_norm, global_norm, vertex_norm"
   ]
  },
  {
   "cell_type": "code",
   "execution_count": 141,
   "id": "c181efa6-13be-43d5-8e99-b481761097a2",
   "metadata": {
    "tags": []
   },
   "outputs": [],
   "source": [
    "n = 25\n",
    "node_labels = [\"Left\"] * n + [\"Right\"] * n\n",
    "\n",
    "u = np.array(\n",
    "    [\n",
    "        [1 / 4, 3 / 4],\n",
    "        [3 / 4, 1 / 4],\n",
    "    ]\n",
    ")\n",
    "X = np.tile(u, 25).reshape(-1, 2)\n",
    "\n",
    "degree_correction = np.diag(np.random.uniform(0.9, 1, size=50))\n",
    "P1 = X @ X.T\n",
    "P2 = degree_correction @ X @ X.T @ degree_correction"
   ]
  },
  {
   "cell_type": "code",
   "execution_count": 142,
   "id": "cba0b8a4-b3cd-4d77-9c08-30fdb6646519",
   "metadata": {
    "tags": []
   },
   "outputs": [
    {
     "data": {
      "text/plain": [
       "(2.455426219419582, 1.2208861244567932, 2.842111411482238)"
      ]
     },
     "execution_count": 142,
     "metadata": {},
     "output_type": "execute_result"
    }
   ],
   "source": [
    "A = sample_edges(P1)\n",
    "B = sample_edges(P2)\n",
    "\n",
    "compute_diff_mats(A, B)"
   ]
  },
  {
   "cell_type": "code",
   "execution_count": 143,
   "id": "cf5e603a-7ce8-42a3-86d7-4799870c6ef6",
   "metadata": {
    "tags": []
   },
   "outputs": [],
   "source": [
    "X1 = AdjacencySpectralEmbed(2).fit_transform(A)\n",
    "X2 = AdjacencySpectralEmbed(2).fit_transform(B)"
   ]
  },
  {
   "cell_type": "code",
   "execution_count": 138,
   "id": "bc6fe2b1-7868-4799-b6dc-0964f665ae17",
   "metadata": {
    "tags": []
   },
   "outputs": [
    {
     "name": "stderr",
     "output_type": "stream",
     "text": [
      "/home/j1c/.cache/pypoetry/virtualenvs/connectomic-heritability-4Wi0NQQ2-py3.9/lib/python3.9/site-packages/seaborn/axisgrid.py:1507: UserWarning: Ignoring `palette` because no `hue` variable has been assigned.\n",
      "  func(x=vector, **plot_kwargs)\n",
      "/home/j1c/.cache/pypoetry/virtualenvs/connectomic-heritability-4Wi0NQQ2-py3.9/lib/python3.9/site-packages/seaborn/axisgrid.py:1507: UserWarning: Ignoring `palette` because no `hue` variable has been assigned.\n",
      "  func(x=vector, **plot_kwargs)\n",
      "/home/j1c/.cache/pypoetry/virtualenvs/connectomic-heritability-4Wi0NQQ2-py3.9/lib/python3.9/site-packages/seaborn/axisgrid.py:1609: UserWarning: Ignoring `palette` because no `hue` variable has been assigned.\n",
      "  func(x=x, y=y, **kwargs)\n",
      "/home/j1c/.cache/pypoetry/virtualenvs/connectomic-heritability-4Wi0NQQ2-py3.9/lib/python3.9/site-packages/seaborn/axisgrid.py:1609: UserWarning: Ignoring `palette` because no `hue` variable has been assigned.\n",
      "  func(x=x, y=y, **kwargs)\n"
     ]
    },
    {
     "data": {
      "text/plain": [
       "<seaborn.axisgrid.PairGrid at 0x7fc73db92d30>"
      ]
     },
     "execution_count": 138,
     "metadata": {},
     "output_type": "execute_result"
    },
    {
     "data": {
      "image/png": "[encoded data removed]",
      "text/plain": [
       "<Figure size 500x500 with 6 Axes>"
      ]
     },
     "metadata": {},
     "output_type": "display_data"
    }
   ],
   "source": [
    "pairplot(\n",
    "    X2,\n",
    ")"
   ]
  },
  {
   "cell_type": "code",
   "execution_count": 139,
   "id": "2eb5dcd3-bd06-47fc-a93a-db2fa643051b",
   "metadata": {
    "tags": []
   },
   "outputs": [
    {
     "name": "stdout",
     "output_type": "stream",
     "text": [
      "2.8148529819544663\n"
     ]
    }
   ],
   "source": [
    "normX1 = np.linalg.norm(X1, axis=1)\n",
    "normX2 = np.linalg.norm(X2, axis=1)\n",
    "\n",
    "x1dx = normX1 <= 1e-10\n",
    "normX1[x1dx] = 1\n",
    "x2dx = normX2 <= 1e-10\n",
    "normX2[x2dx] = 1\n",
    "\n",
    "X1 = X1 / normX1[:, None]\n",
    "X2 = X2 / normX2[:, None]\n",
    "\n",
    "denom = normX1[~x1dx].min() + normX2[~x2dx].min()\n",
    "X1 /= denom\n",
    "X2 /= denom\n",
    "\n",
    "X1 = OrthogonalProcrustes().fit_transform(X1, X2)\n",
    "print(np.linalg.norm(X1 - X2))"
   ]
  },
  {
   "cell_type": "code",
   "execution_count": 164,
   "id": "3d48be1a-3961-446d-8591-0ed194daee1a",
   "metadata": {
    "tags": []
   },
   "outputs": [],
   "source": [
    "X1 = AdjacencySpectralEmbed(2).fit_transform(A)\n",
    "X2 = AdjacencySpectralEmbed(2).fit_transform(B)"
   ]
  },
  {
   "cell_type": "code",
   "execution_count": 178,
   "id": "49a0d051-9157-43d5-b098-99b93a1ada0f",
   "metadata": {
    "tags": []
   },
   "outputs": [
    {
     "data": {
      "text/plain": [
       "1.212985461096899"
      ]
     },
     "execution_count": 178,
     "metadata": {},
     "output_type": "execute_result"
    }
   ],
   "source": [
    "difference_norm(X1, X2, \"exact\")"
   ]
  },
  {
   "cell_type": "code",
   "execution_count": 170,
   "id": "4a62f21c-daa9-4040-b11f-8c03c4ce1d8f",
   "metadata": {
    "tags": []
   },
   "outputs": [
    {
     "data": {
      "text/plain": [
       "0.16580492600802774"
      ]
     },
     "execution_count": 170,
     "metadata": {},
     "output_type": "execute_result"
    }
   ],
   "source": [
    "difference_norm(X1, X2, \"vertex\")"
   ]
  },
  {
   "cell_type": "code",
   "execution_count": 174,
   "id": "bb3126df-e9a6-44bc-9e91-5f1232f8ad19",
   "metadata": {
    "tags": []
   },
   "outputs": [
    {
     "data": {
      "text/plain": [
       "1.2499682957035008"
      ]
     },
     "execution_count": 174,
     "metadata": {},
     "output_type": "execute_result"
    }
   ],
   "source": [
    "compute_constant(X1)"
   ]
  },
  {
   "cell_type": "code",
   "execution_count": 171,
   "id": "131153d1-1602-4e83-a26b-3a5b3662f4a1",
   "metadata": {
    "tags": []
   },
   "outputs": [],
   "source": [
    "import numpy as np\n",
    "from graspologic.align import OrthogonalProcrustes, SeedlessProcrustes\n",
    "\n",
    "\n",
    "def difference(\n",
    "    X1: np.ndarray,\n",
    "    X2: np.ndarray,\n",
    "    test_case,\n",
    ") -> float:\n",
    "    if test_case == \"exact\":\n",
    "        CX = compute_constant(X1)\n",
    "        CY = compute_constant(X2)\n",
    "\n",
    "        denom = CX + CY\n",
    "\n",
    "        # X1 /= denom\n",
    "        # X2 /= denom\n",
    "    elif test_case == \"global\":\n",
    "        CX = compute_constant(X1)\n",
    "        CY = compute_constant(X2)\n",
    "\n",
    "        normX1 = np.linalg.norm(X1, ord=\"fro\")\n",
    "        normX2 = np.linalg.norm(X2, ord=\"fro\")\n",
    "        X1 = X1 / normX1\n",
    "        X2 = X2 / normX2\n",
    "\n",
    "        denom = 2 * (CX / normX1 + CY / normX2)\n",
    "\n",
    "        # X1 /= denom\n",
    "        # X2 /= denom\n",
    "\n",
    "    elif test_case == \"vertex\":\n",
    "        normX1 = np.sum(X1**2, axis=1)\n",
    "        normX2 = np.sum(X2**2, axis=1)\n",
    "        normX1[normX1 <= 1e-15] = 1\n",
    "        normX2[normX2 <= 1e-15] = 1\n",
    "        X1 = X1 / np.sqrt(normX1[:, None])\n",
    "        X2 = X2 / np.sqrt(normX2[:, None])\n",
    "\n",
    "        denom = 2 * (1 / np.sqrt(normX1).min() + 1 / np.sqrt(normX2).min())\n",
    "        # X1 /= denom\n",
    "        # X2 /= denom\n",
    "    else:\n",
    "        raise ValueError()\n",
    "\n",
    "    aligner = OrthogonalProcrustes()\n",
    "    X1 = aligner.fit_transform(X1, X2)\n",
    "    X1 /= denom\n",
    "    X2 /= denom\n",
    "    return X1 - X2\n",
    "\n",
    "\n",
    "def compute_constant(X):\n",
    "    P = X @ X.T\n",
    "    D = np.sum(P - P**2, axis=1)\n",
    "    D[D < 0] = 0\n",
    "    D = D.reshape(-1, 1)\n",
    "\n",
    "    S, U = np.linalg.eig(X.T @ X)\n",
    "    C = U @ np.diag(1 / S**2) @ U.T\n",
    "    CX = np.sum(np.diag(C @ (X * np.sqrt(D)).T @ (X * np.sqrt(D))))\n",
    "\n",
    "    return np.sqrt(CX)\n",
    "\n",
    "\n",
    "def difference_norm(\n",
    "    X1: np.ndarray,\n",
    "    X2: np.ndarray,\n",
    "    test_case,\n",
    ") -> float:\n",
    "    X = difference(X1, X2, test_case)\n",
    "\n",
    "    return np.linalg.norm(X)"
   ]
  },
  {
   "cell_type": "code",
   "execution_count": 193,
   "id": "f3da3a61-efcc-4fcc-8711-f991ff4a951d",
   "metadata": {
    "tags": []
   },
   "outputs": [],
   "source": [
    "w = np.array(\n",
    "    [\n",
    "        [3 / 6, 2 / 6],\n",
    "        [2 / 6, 1 / 6],\n",
    "    ]\n",
    ")"
   ]
  },
  {
   "cell_type": "code",
   "execution_count": 194,
   "id": "3a870f0f-82e7-4930-a19f-5dd023880152",
   "metadata": {
    "tags": []
   },
   "outputs": [
    {
     "data": {
      "text/plain": [
       "array([[0.36111111, 0.22222222],\n",
       "       [0.22222222, 0.13888889]])"
      ]
     },
     "execution_count": 194,
     "metadata": {},
     "output_type": "execute_result"
    }
   ],
   "source": [
    "w @ w.T"
   ]
  },
  {
   "cell_type": "code",
   "execution_count": null,
   "id": "f16dc094-1ba8-43a7-88f4-e25efac54269",
   "metadata": {},
   "outputs": [],
   "source": []
  }
 ],
 "metadata": {
  "kernelspec": {
   "display_name": "Python 3 (ipykernel)",
   "language": "python",
   "name": "python3"
  },
  "language_info": {
   "codemirror_mode": {
    "name": "ipython",
    "version": 3
   },
   "file_extension": ".py",
   "mimetype": "text/x-python",
   "name": "python",
   "nbconvert_exporter": "python",
   "pygments_lexer": "ipython3",
   "version": "3.9.16"
  }
 },
 "nbformat": 4,
 "nbformat_minor": 5
}
