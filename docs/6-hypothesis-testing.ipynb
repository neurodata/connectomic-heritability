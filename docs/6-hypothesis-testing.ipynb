{
 "cells": [
  {
   "cell_type": "code",
   "execution_count": 1,
   "id": "c4070062-f8f0-462d-bdaa-af1cd29e284c",
   "metadata": {},
   "outputs": [],
   "source": [
    "import datetime\n",
    "import time\n",
    "from pathlib import Path\n",
    "\n",
    "from scipy.spatial.distance import squareform\n",
    "\n",
    "from hyppo.conditional import ConditionalDcorr\n",
    "from hyppo.independence import Dcorr"
   ]
  },
  {
   "cell_type": "code",
   "execution_count": 2,
   "id": "e470db2d-002b-466e-84ac-ef126d2e58c3",
   "metadata": {
    "tags": []
   },
   "outputs": [],
   "source": [
    "reps = 25000\n",
    "\n",
    "parcellations = [\n",
    "    \"AAL\",\n",
    "    \"CPAC200\",\n",
    "    \"DKT\",\n",
    "    \"Desikan\",\n",
    "    \"Glasser\",\n",
    "    \"Yeo-17-liberal\",\n",
    "    \"Yeo-17\",\n",
    "    \"Yeo-7-liberal\",\n",
    "    \"Yeo-7\",\n",
    "    \"Schaefer200\",\n",
    "    \"Schaefer300\",\n",
    "    \"Schaefer400\",\n",
    "    \"Schaefer1000\",\n",
    "]"
   ]
  },
  {
   "cell_type": "code",
   "execution_count": 3,
   "id": "9f2fede1-84a5-4086-afcc-1af26e65e509",
   "metadata": {
    "tags": []
   },
   "outputs": [],
   "source": [
    "all_subjects_df = pd.read_csv(\"../restricted_data/690subjects.csv\")\n",
    "twins_df = pd.read_csv(\"../restricted_data/same_sex_twins.csv\")\n",
    "\n",
    "\n",
    "pval_cols = [\"parcellation\", \"model\", \"pvalue\", \"hypothesis\", \"gender\"]\n",
    "pvalues = pd.DataFrame(columns=pval_cols)\n",
    "\n",
    "\n",
    "data_path = Path(\"../results/\")\n",
    "genome_distance = np.load(data_path / \"genome_distance.npz\")[\"genome\"]\n",
    "\n",
    "female_idx = all_subjects_df.Gender == \"F\"\n",
    "male_idx = all_subjects_df.Gender == \"M\""
   ]
  },
  {
   "cell_type": "markdown",
   "id": "13529433-a420-439d-b7a5-0ba390caf827",
   "metadata": {},
   "source": [
    "## Compute permutation blocks"
   ]
  },
  {
   "cell_type": "code",
   "execution_count": 4,
   "id": "720fd75f-2aa8-4e62-b97e-6e712154c890",
   "metadata": {
    "tags": []
   },
   "outputs": [],
   "source": [
    "nrows = all_subjects_df.shape[0]\n",
    "fams, _ = np.unique(all_subjects_df.Family_ID, return_counts=True)\n",
    "blocks = np.zeros((nrows, 3), dtype=int)  # cols are = zygosity, family, then subjects\n",
    "for fdx, fam in enumerate(fams):\n",
    "    rows = all_subjects_df[all_subjects_df.Family_ID == fam]\n",
    "\n",
    "    idx, jdx = rows.index\n",
    "    zyg1, zyg2 = rows.Zygosity\n",
    "\n",
    "    if zyg1 == \"MZ\" and zyg2 == \"MZ\":\n",
    "        first_block = -1\n",
    "    elif zyg1 == \"DZ\" and zyg2 == \"DZ\":\n",
    "        first_block = -2\n",
    "    elif zyg1 != zyg2 or (zyg1 == \"NotTwin\" and zyg2 == \"NotTwin\"):\n",
    "        first_block = -3\n",
    "    else:\n",
    "        raise ValueError(fam)\n",
    "\n",
    "    blocks[[idx, jdx]] = [[first_block, fdx + 1, 1], [first_block, fdx + 1, 2]]"
   ]
  },
  {
   "cell_type": "markdown",
   "id": "9cd27443-561b-458d-afb3-bbc6edb825da",
   "metadata": {},
   "source": [
    "## Part A) Monozygotic vs Dizygotics"
   ]
  },
  {
   "cell_type": "code",
   "execution_count": 5,
   "id": "f3e573da-30fd-4129-80f2-950462aa4385",
   "metadata": {
    "tags": []
   },
   "outputs": [],
   "source": [
    "twin_idx = all_subjects_df.Subject.isin(twins_df.Subject)\n",
    "\n",
    "twin_female_idx = np.logical_and(twin_idx, female_idx)\n",
    "twin_male_idx = np.logical_and(twin_idx, male_idx)\n",
    "\n",
    "gender_idx = [[\"All\", twin_idx], [\"F\", twin_female_idx], [\"M\", twin_male_idx]]"
   ]
  },
  {
   "cell_type": "code",
   "execution_count": null,
   "id": "63a91b74-f5dd-4ac4-9130-f125cb732ade",
   "metadata": {
    "tags": []
   },
   "outputs": [],
   "source": [
    "res = []\n",
    "\n",
    "for parcellation in parcellations:\n",
    "    print(f\"running {parcellation}\")\n",
    "    parc_path = data_path / parcellation\n",
    "    connectome_distances = np.load(parc_path / \"connectome_distances.npz\")\n",
    "\n",
    "    for gender, gender_index in gender_idx:\n",
    "        indices = gender_index\n",
    "        for model in [\"exact\", \"glob\", \"vertex\"]:\n",
    "            cdist = squareform(connectome_distances[model])[indices, :][:, indices]\n",
    "            gdist = squareform(genome_distance)[indices, :][:, indices]\n",
    "            twin_blocks = blocks[:, 0][indices]\n",
    "\n",
    "            dcorr = Dcorr(compute_distance=None)\n",
    "            stat, pval = dcorr.test(\n",
    "                gdist,\n",
    "                cdist,\n",
    "                perm_blocks=twin_blocks,\n",
    "                reps=reps,\n",
    "                auto=False,\n",
    "                workers=88,\n",
    "            )\n",
    "            res.append([parcellation, model, pval, \"dcorr_twins_only\", gender])\n",
    "\n",
    "pvalues = pd.concat(\n",
    "    [pvalues, pd.DataFrame(res, columns=pval_cols)], ignore_index=True, axis=0\n",
    ")\n",
    "pvalues.to_csv(\"../results/pvalues.csv\", index=False)"
   ]
  },
  {
   "cell_type": "markdown",
   "id": "7e6dcc70-7733-4d51-a8f3-f4642d039afe",
   "metadata": {},
   "source": [
    "## Part B) Dcorr of all relationships"
   ]
  },
  {
   "cell_type": "code",
   "execution_count": null,
   "id": "8124dd58-ba7b-4ba0-b972-ba8fe18249a3",
   "metadata": {
    "tags": []
   },
   "outputs": [],
   "source": [
    "gender_idx = [[\"All\", np.arange(690)], [\"F\", female_idx], [\"M\", male_idx]]"
   ]
  },
  {
   "cell_type": "code",
   "execution_count": null,
   "id": "911f6e69-a9cc-4cc1-a401-97941bb37ac6",
   "metadata": {
    "tags": []
   },
   "outputs": [],
   "source": [
    "res = []\n",
    "for parcellation in parcellations:\n",
    "    print(f\"running {parcellation}\")\n",
    "    parc_path = data_path / parcellation\n",
    "    connectome_distances = np.load(parc_path / \"connectome_distances.npz\")\n",
    "    for gender, gender_index in gender_idx:\n",
    "        indices = gender_index\n",
    "        for model in [\"exact\", \"glob\", \"vertex\"]:\n",
    "            cdist = squareform(connectome_distances[model])[indices, :][:, indices]\n",
    "            gdist = squareform(genome_distance)[indices, :][:, indices]\n",
    "            dcorr = Dcorr(compute_distance=None)\n",
    "\n",
    "            stat, pval = dcorr.test(\n",
    "                gdist,\n",
    "                cdist,\n",
    "                perm_blocks=blocks[:, 0][indices],\n",
    "                reps=reps,\n",
    "                auto=False,\n",
    "                workers=90,\n",
    "            )\n",
    "            res.append([parcellation, model, pval, \"dcorr_all\", gender])\n",
    "\n",
    "pvalues = pd.concat(\n",
    "    [pvalues, pd.DataFrame(res, columns=pval_cols)], ignore_index=True, axis=0\n",
    ")\n",
    "pvalues.to_csv(\"../results/pvalues.csv\", index=False)"
   ]
  },
  {
   "cell_type": "markdown",
   "id": "a44b7bab-747f-42a8-b256-1e680be2a03c",
   "metadata": {},
   "source": [
    "## Part C Neuroanatomy"
   ]
  },
  {
   "cell_type": "code",
   "execution_count": null,
   "id": "01581e07-bc26-480a-acf0-e1119ec5965e",
   "metadata": {},
   "outputs": [],
   "source": [
    "gender_idx = [[\"All\", np.arange(690)], [\"F\", female_idx], [\"M\", male_idx]]"
   ]
  },
  {
   "cell_type": "code",
   "execution_count": null,
   "id": "9e24a4c5-517d-4b7a-8a17-7e8aa21a405e",
   "metadata": {},
   "outputs": [],
   "source": [
    "data_path = Path(\"../results/\")\n",
    "\n",
    "genome_distance = np.load(data_path / \"genome_distance.npz\")[\"genome\"]\n",
    "\n",
    "res = []\n",
    "for parcellation in parcellations:\n",
    "    print(f\"running {parcellation}\")\n",
    "    parc_path = data_path / parcellation\n",
    "    neuro_distance = np.load(parc_path / \"covariate_distance.npz\")\n",
    "    for gender, gender_index in gender_idx:\n",
    "        indices = gender_index\n",
    "\n",
    "        cdist = squareform(neuro_distance[\"neuroanatomy\"])[indices, :][:, indices]\n",
    "        gdist = squareform(genome_distance)[indices, :][:, indices]\n",
    "\n",
    "        dcorr = Dcorr(compute_distance=None)\n",
    "        stat, pval = dcorr.test(\n",
    "            gdist,\n",
    "            cdist,\n",
    "            perm_blocks=blocks[:, 0][indices],\n",
    "            reps=reps,\n",
    "            auto=False,\n",
    "            workers=90,\n",
    "        )\n",
    "        res.append([parcellation, \"neuroanatomy\", pval, \"dcorr_neuroanatomy\", gender])\n",
    "\n",
    "pvalues = pd.concat(\n",
    "    [pvalues, pd.DataFrame(res, columns=pval_cols)], ignore_index=True, axis=0\n",
    ")\n",
    "pvalues.to_csv(\"../results/pvalues.csv\", index=False)"
   ]
  },
  {
   "cell_type": "markdown",
   "id": "e4d031b5-8a60-485a-b791-e5ac2db5ad45",
   "metadata": {},
   "source": [
    "## Part D conditional dcorr"
   ]
  },
  {
   "cell_type": "code",
   "execution_count": null,
   "id": "608199c1-fa05-4b74-8db6-fc41ec8ae8af",
   "metadata": {
    "tags": []
   },
   "outputs": [
    {
     "name": "stdout",
     "output_type": "stream",
     "text": [
      "running AAL\n"
     ]
    }
   ],
   "source": [
    "data_path = Path(\"../results/\")\n",
    "genome_distance = np.load(data_path / \"genome_distance.npz\")[\"genome\"]\n",
    "\n",
    "res = []\n",
    "\n",
    "gender_idx = [[\"All\", np.arange(690)], [\"F\", female_idx], [\"M\", male_idx]]\n",
    "\n",
    "for parcellation in parcellations:\n",
    "    print(f\"running {parcellation}\")\n",
    "\n",
    "    parc_path = data_path / parcellation\n",
    "    connectome_distances = np.load(parc_path / \"connectome_distances.npz\")\n",
    "    covariate_distances = np.load(parc_path / \"covariate_kde.npz\")[\"covariates\"]\n",
    "\n",
    "    for gender, gender_index in gender_idx:\n",
    "        indices = gender_index\n",
    "        for model in [\"exact\", \"glob\", \"vertex\"]:\n",
    "\n",
    "            cdist = squareform(connectome_distances[model])[indices, :][:, indices]\n",
    "            gdist = squareform(genome_distance)[indices, :][:, indices]\n",
    "            vdist = covariate_distances[indices, :][:, indices]\n",
    "\n",
    "            cd = ConditionalDcorr(compute_distance=None)\n",
    "            stat, pval = cd.test(gdist, cdist, vdist, reps=10000, workers=90)\n",
    "            res.append([parcellation, model, pval, \"cdcorr_all\", gender])\n",
    "\n",
    "pvalues = pd.concat(\n",
    "    [pvalues, pd.DataFrame(res, columns=pval_cols)], ignore_index=True, axis=0\n",
    ")\n",
    "pvalues.to_csv(\"../results/pvalues.csv\", index=False)"
   ]
  },
  {
   "cell_type": "markdown",
   "id": "7e95e1ff-4e41-4da2-b8b4-54ced507bcc1",
   "metadata": {},
   "source": [
    "## Vertex"
   ]
  },
  {
   "cell_type": "markdown",
   "id": "df618453-e86a-4faa-a422-63fd46dc6ddd",
   "metadata": {},
   "source": [
    "## Correct pvalues"
   ]
  },
  {
   "cell_type": "code",
   "execution_count": 30,
   "id": "c647bd8a-37cf-4e37-842a-e9eb3be5fa83",
   "metadata": {
    "tags": []
   },
   "outputs": [],
   "source": [
    "from statsmodels.stats.multitest import multipletests"
   ]
  },
  {
   "cell_type": "code",
   "execution_count": 39,
   "id": "483fd4e7-68ac-4bdd-8d74-659bdde12cc2",
   "metadata": {
    "tags": []
   },
   "outputs": [],
   "source": [
    "significant, corrected, _, _ = multipletests(pvalues.pvalue, method=\"fdr_bh\")"
   ]
  },
  {
   "cell_type": "code",
   "execution_count": 40,
   "id": "415682ca-b1fe-45eb-8374-d20075d650b6",
   "metadata": {
    "tags": []
   },
   "outputs": [],
   "source": [
    "pvalues[\"corrected_pvalue\"] = corrected\n",
    "pvalues[\"is_significant\"] = significant"
   ]
  },
  {
   "cell_type": "code",
   "execution_count": 41,
   "id": "09d1b2da-885d-4678-a8d0-f177066fd848",
   "metadata": {
    "tags": []
   },
   "outputs": [],
   "source": [
    "pvalues.to_csv(\"../results/pvalues.csv\", index=False)"
   ]
  },
  {
   "cell_type": "code",
   "execution_count": null,
   "id": "fbac03d7-9d32-4da4-8970-5d3c527a8cdb",
   "metadata": {},
   "outputs": [],
   "source": []
  }
 ],
 "metadata": {
  "kernelspec": {
   "display_name": "Python 3 (ipykernel)",
   "language": "python",
   "name": "python3"
  },
  "language_info": {
   "codemirror_mode": {
    "name": "ipython",
    "version": 3
   },
   "file_extension": ".py",
   "mimetype": "text/x-python",
   "name": "python",
   "nbconvert_exporter": "python",
   "pygments_lexer": "ipython3",
   "version": "3.9.16"
  }
 },
 "nbformat": 4,
 "nbformat_minor": 5
}
